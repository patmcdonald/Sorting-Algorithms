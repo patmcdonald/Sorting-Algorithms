{
 "cells": [
  {
   "cell_type": "code",
   "execution_count": null,
   "metadata": {},
   "outputs": [],
   "source": [
    "Project: Benchmarking Sorting Algorithms"
   ]
  },
  {
   "cell_type": "markdown",
   "metadata": {},
   "source": [
    "### For this project you will write a Python application which will be used to benchmark five different sorting algorithms. You will also write a report which introduces the algorithms you have chosen, and discusses the results of the benchmarking process.\n",
    "\n",
    "#### The five sorting algorithms which you will implement, benchmark and discuss in this project must be chosen according to the following criteria:\n",
    "\n",
    "1. A simple comparison-based sort (Bubble Sort, Selection Sort or Insertion Sort)\n",
    "\n",
    "2. An efficient comparison-based sort (Merge Sort, Quicksort or Heap Sort)\n",
    "\n",
    "3. A non-comparison sort (Counting Sort, Bucket Sort or Radix Sort)\n",
    "\n",
    "4. Any other sorting algorithm of your choice\n",
    "\n",
    "5. Any other sorting algorithm of your choice"
   ]
  },
  {
   "cell_type": "markdown",
   "metadata": {},
   "source": [
    "### Introduction\n",
    "\n",
    "* concept of sorting and sorting algorithms\n",
    "\n",
    "* complexity (time and space)\n",
    "\n",
    "* performance\n",
    "\n",
    "* in-place sorting\n",
    "\n",
    "* stable sorting\n",
    "\n",
    "* comparator functions \n",
    "\n",
    "* comparison based sorts\n",
    "\n",
    "* non-comparison based sorts\n",
    "\n",
    "As humans, we developed the capacity to sort objects and data in order to arrange such these, and to be able to search for them more efficiently. In computer science, it is algorithms that enable computers to perform sorting tasks exponentially faster than our human brains ever can.\n",
    "\n",
    "\n"
   ]
  },
  {
   "cell_type": "markdown",
   "metadata": {},
   "source": [
    " #### 1. A simple comparison-based sort - Bubble Sort"
   ]
  },
  {
   "cell_type": "code",
   "execution_count": 4,
   "metadata": {},
   "outputs": [
    {
     "name": "stdout",
     "output_type": "stream",
     "text": [
      "[17, 20, 26, 31, 44, 54, 55, 77, 93]\n"
     ]
    }
   ],
   "source": [
    "#Code source: https://interactivepython.org/runestone/static/pythonds/SortSearch/TheBubbleSort.html\n",
    "\n",
    "def bubbleSort(alist):\n",
    "    for passnum in range(len(alist)-1,0,-1):\n",
    "        for i in range(passnum):\n",
    "            if alist[i]>alist[i+1]:\n",
    "                temp = alist[i]\n",
    "                alist[i] = alist[i+1]\n",
    "                alist[i+1] = temp\n",
    "\n",
    "alist = [54,26,93,17,77,31,44,55,20]\n",
    "bubbleSort(alist)\n",
    "print(alist)"
   ]
  },
  {
   "cell_type": "markdown",
   "metadata": {},
   "source": [
    "#### 2. An efficient comparison-based sort - Merge Sort"
   ]
  },
  {
   "cell_type": "code",
   "execution_count": 1,
   "metadata": {},
   "outputs": [],
   "source": [
    "'''\n",
    "Code source: https://github.com/TheAlgorithms/Python/blob/master/sorts/merge_sort_fastest.py\n",
    "\n",
    "Python implementation of merge sort algorithm.\n",
    "Takes an average of 0.6 microseconds to sort a list of length 1000 items.\n",
    "Best Case Scenario : O(n)\n",
    "Worst Case Scenario : O(n)\n",
    "\n",
    "'''\n",
    "def merge_sort(LIST):\n",
    "    start = []\n",
    "    end = []\n",
    "    while len(LIST) > 1:\n",
    "        a = min(LIST)\n",
    "        b = max(LIST)\n",
    "        start.append(a)\n",
    "        end.append(b)\n",
    "        LIST.remove(a)\n",
    "        LIST.remove(b)\n",
    "    if LIST: start.append(LIST[0])\n",
    "    end.reverse()\n",
    "    return (start + end)"
   ]
  },
  {
   "cell_type": "markdown",
   "metadata": {},
   "source": [
    "#### 3. A non-comparison sort - Radix Sort"
   ]
  },
  {
   "cell_type": "code",
   "execution_count": 8,
   "metadata": {},
   "outputs": [],
   "source": [
    "# Code source: https://github.com/TheAlgorithms/Python/blob/master/sorts/radix_sort.py\n",
    "\n",
    "def radixsort(lst):\n",
    "    RADIX = 10\n",
    "    placement = 1\n",
    "\n",
    "    # get the maximum number\n",
    "    max_digit = max(lst)\n",
    "\n",
    "    while placement < max_digit:\n",
    "      # declare and initialize buckets\n",
    "      buckets = [list() for _ in range( RADIX )]\n",
    "\n",
    "      # split lst between lists\n",
    "      for i in lst:\n",
    "        tmp = int((i / placement) % RADIX)\n",
    "        buckets[tmp].append(i)\n",
    "\n",
    "      # empty lists into lst array\n",
    "      a = 0\n",
    "      for b in range( RADIX ):\n",
    "        buck = buckets[b]\n",
    "        for i in buck:\n",
    "          lst[a] = i\n",
    "          a += 1\n",
    "\n",
    "      # move to next\n",
    "      placement *= RADIX"
   ]
  },
  {
   "cell_type": "markdown",
   "metadata": {},
   "source": [
    "#### 4. Any other sorting algorithm of your choice -Bogosort"
   ]
  },
  {
   "cell_type": "code",
   "execution_count": 9,
   "metadata": {},
   "outputs": [],
   "source": [
    "# https://www.geeksforgeeks.org/python-program-for-bogosort-or-permutation-sort/\n",
    "\n",
    "# Sorts array a[0..n-1] using Bogo sort \n",
    "# Python program for implementation of Bogo Sort \n",
    "import random \n",
    "  \n",
    "# Sorts array a[0..n-1] using Bogo sort \n",
    "def bogoSort(a): \n",
    "    n = len(a) \n",
    "    while (is_sorted(a)== False): \n",
    "        shuffle(a) \n",
    "  \n",
    "# To check if array is sorted or not \n",
    "def is_sorted(a): \n",
    "    n = len(a) \n",
    "    for i in range(0, n-1): \n",
    "        if (a[i] > a[i+1] ): \n",
    "            return False\n",
    "    return True\n",
    "  \n",
    "# To generate permuatation of the array \n",
    "def shuffle(a): \n",
    "    n = len(a) \n",
    "    for i in range (0,n): \n",
    "        r = random.randint(0,n-1) \n",
    "        a[i], a[r] = a[r], a[i] "
   ]
  },
  {
   "cell_type": "markdown",
   "metadata": {},
   "source": [
    "#### 5. Any other sorting algorithm of your choice - Timsort (Hybrid built into Python)"
   ]
  },
  {
   "cell_type": "code",
   "execution_count": 2,
   "metadata": {},
   "outputs": [
    {
     "name": "stdout",
     "output_type": "stream",
     "text": [
      "[2, 3, 5, 6, 7]\n"
     ]
    }
   ],
   "source": [
    "# Code source: https://hackernoon.com/timsort-the-fastest-sorting-algorithm-youve-never-heard-of-36b28417f399\n",
    "\n",
    "# based off of this code https://gist.github.com/nandajavarma/a3a6b62f34e74ec4c31674934327bbd3\n",
    "# Brandon Skerritt\n",
    "# https://skerritt.tech\n",
    "\n",
    "def binary_search(the_array, item, start, end):\n",
    "    if start == end:\n",
    "        if the_array[start] > item:\n",
    "            return start\n",
    "        else:\n",
    "            return start + 1\n",
    "    if start > end:\n",
    "        return start\n",
    "\n",
    "    mid = round((start + end)/ 2)\n",
    "\n",
    "    if the_array[mid] < item:\n",
    "        return binary_search(the_array, item, mid + 1, end)\n",
    "\n",
    "    elif the_array[mid] > item:\n",
    "        return binary_search(the_array, item, start, mid - 1)\n",
    "\n",
    "    else:\n",
    "        return mid\n",
    "\n",
    "\"\"\"\n",
    "Insertion sort that timsort uses if the array size is small or if\n",
    "the size of the \"run\" is small\n",
    "\"\"\"\n",
    "def insertion_sort(the_array):\n",
    "    l = len(the_array)\n",
    "    for index in range(1, l):\n",
    "        value = the_array[index]\n",
    "        pos = binary_search(the_array, value, 0, index - 1)\n",
    "        the_array = the_array[:pos] + [value] + the_array[pos:index] + the_array[index+1:]\n",
    "    return the_array\n",
    "\n",
    "def merge(left, right):\n",
    "    \"\"\"Takes two sorted lists and returns a single sorted list by comparing the\n",
    "    elements one at a time.\n",
    "    [1, 2, 3, 4, 5, 6]\n",
    "    \"\"\"\n",
    "    if not left:\n",
    "        return right\n",
    "    if not right:\n",
    "        return left\n",
    "    if left[0] < right[0]:\n",
    "        return [left[0]] + merge(left[1:], right)\n",
    "    return [right[0]] + merge(left, right[1:])\n",
    "\n",
    "def timsort(the_array):\n",
    "    runs, sorted_runs = [], []\n",
    "    length = len(the_array)\n",
    "    new_run = [the_array[0]]\n",
    "\n",
    "    # for every i in the range of 1 to length of array\n",
    "    for i in range(1, length):\n",
    "        # if i is at the end of the list\n",
    "        if i == length - 1:\n",
    "            new_run.append(the_array[i])\n",
    "            runs.append(new_run)\n",
    "            break\n",
    "        # if the i'th element of the array is less than the one before it\n",
    "        if the_array[i] < the_array[i-1]:\n",
    "            # if new_run is set to None (NULL)\n",
    "            if not new_run:\n",
    "                runs.append([the_array[i]])\n",
    "                new_run.append(the_array[i])\n",
    "            else:\n",
    "                runs.append(new_run)\n",
    "                new_run = []\n",
    "        # else if its equal to or more than\n",
    "        else:\n",
    "            new_run.append(the_array[i])\n",
    "\n",
    "    # for every item in runs, append it using insertion sort\n",
    "    for item in runs:\n",
    "        sorted_runs.append(insertion_sort(item))\n",
    "    \n",
    "    # for every run in sorted_runs, merge them\n",
    "    sorted_array = []\n",
    "    for run in sorted_runs:\n",
    "        sorted_array = merge(sorted_array, run)\n",
    "\n",
    "    print(sorted_array)\n",
    "\n",
    "timsort([2, 3, 1, 5, 6, 7])"
   ]
  },
  {
   "cell_type": "markdown",
   "metadata": {},
   "source": [
    "#### Timing code sample below"
   ]
  },
  {
   "cell_type": "code",
   "execution_count": 12,
   "metadata": {},
   "outputs": [
    {
     "ename": "SyntaxError",
     "evalue": "invalid syntax (<ipython-input-12-164448397ad2>, line 7)",
     "output_type": "error",
     "traceback": [
      "\u001b[0;36m  File \u001b[0;32m\"<ipython-input-12-164448397ad2>\"\u001b[0;36m, line \u001b[0;32m7\u001b[0m\n\u001b[0;31m    function random_array\u001b[0m\n\u001b[0m                        ^\u001b[0m\n\u001b[0;31mSyntaxError\u001b[0m\u001b[0;31m:\u001b[0m invalid syntax\n"
     ]
    }
   ],
   "source": [
    "# From Project specification .pdf\n",
    "#import time library\n",
    "import time\n",
    "\n",
    "start_time = time.time()\n",
    "# Call your sorting algorithm here\n",
    "\n",
    "end_time = time.time()\n",
    "time_elapsed = end_time - start_time"
   ]
  },
  {
   "cell_type": "markdown",
   "metadata": {},
   "source": [
    "#### Random Array code sample below"
   ]
  },
  {
   "cell_type": "code",
   "execution_count": null,
   "metadata": {},
   "outputs": [],
   "source": [
    "# From Project specification .pdf\n",
    "# from random import randint\n",
    "def random_array(n):\n",
    "    array = []# create array\n",
    "    for i in range (0, n, 1):# \n",
    "        array.append(randint(0, 100))# adds random integers between 0 and 100 to array\n",
    "    return array"
   ]
  },
  {
   "cell_type": "markdown",
   "metadata": {},
   "source": [
    "#### Benchmarking practice"
   ]
  },
  {
   "cell_type": "code",
   "execution_count": 24,
   "metadata": {},
   "outputs": [
    {
     "name": "stdout",
     "output_type": "stream",
     "text": [
      "[]\n"
     ]
    }
   ],
   "source": [
    "# Lets try out timsort!\n",
    "# Import python modules\n",
    "# Code is from project specification.pdf\n",
    "import time\n",
    "from random import randint\n",
    "\n",
    "def random_array(n):\n",
    "    array = []# create array\n",
    "    for i in range (0, n, 1):# \n",
    "        array.append(randint(0, 100))# adds random integers between 0 and 100 to array\n",
    "    return array\n",
    "\n",
    "start_time = time.time()\n",
    "# Call your sorting algorithm here\n",
    "\n",
    "n.sort() #built-in Timsort function called\n",
    "\n",
    "end_time = time.time()\n",
    "time_elapsed = end_time - start_time\n",
    "\n",
    "print(n)\n"
   ]
  },
  {
   "cell_type": "code",
   "execution_count": null,
   "metadata": {},
   "outputs": [],
   "source": []
  }
 ],
 "metadata": {
  "kernelspec": {
   "display_name": "Python 3",
   "language": "python",
   "name": "python3"
  },
  "language_info": {
   "codemirror_mode": {
    "name": "ipython",
    "version": 3
   },
   "file_extension": ".py",
   "mimetype": "text/x-python",
   "name": "python",
   "nbconvert_exporter": "python",
   "pygments_lexer": "ipython3",
   "version": "3.6.7"
  }
 },
 "nbformat": 4,
 "nbformat_minor": 2
}
